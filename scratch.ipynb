{
 "cells": [
  {
   "cell_type": "code",
   "execution_count": 23,
   "metadata": {},
   "outputs": [
    {
     "name": "stdout",
     "output_type": "stream",
     "text": [
      "            [Q]     [G]     [M]    \n",
      "            [B] [S] [V]     [P] [R]\n",
      "    [T]     [C] [F] [L]     [V] [N]\n",
      "[Q] [P]     [H] [N] [S]     [W] [C]\n",
      "[F] [G] [B] [J] [B] [N]     [Z] [L]\n",
      "[L] [Q] [Q] [Z] [M] [Q] [F] [G] [D]\n",
      "[S] [Z] [M] [G] [H] [C] [C] [H] [Z]\n",
      "[R] [N] [S] [T] [P] [P] [W] [Q] [G]\n"
     ]
    }
   ],
   "source": [
    "with open(\"Day5-puzzleinput.txt\", \"r\") as outfile:\n",
    "    x = outfile.read()\n",
    "    stacks, instructions = x.split(\"\\n\\n\")\n",
    "\n",
    "\n",
    "# final line is the stacks and their relative position\n",
    "stack_crates = stacks.splitlines()[:-1]\n",
    "stack_numbers = stacks.splitlines()[-1]\n",
    "\n",
    "for stack in stack_crates:\n",
    "    print(stack)\n"
   ]
  },
  {
   "cell_type": "code",
   "execution_count": 24,
   "metadata": {},
   "outputs": [
    {
     "name": "stdout",
     "output_type": "stream",
     "text": [
      "[' ', '1', ' ', ' ', ' ', '2', ' ', ' ', ' ', '3', ' ', ' ', ' ', '4', ' ', ' ', ' ', '5', ' ', ' ', ' ', '6', ' ', ' ', ' ', '7', ' ', ' ', ' ', '8', ' ', ' ', ' ', '9', ' ']\n",
      "[1, 5, 9, 13, 17, 21, 25, 29, 33]\n"
     ]
    }
   ],
   "source": [
    "# a list of spaces and the stack numbers\n",
    "stack_numbers_ls = [*stack_numbers]\n",
    "\n",
    "print(stack_numbers_ls)\n",
    "\n",
    "# calculate which indexes have a crate letter\n",
    "def indexresolver(string):\n",
    "    reso_ls = []\n",
    "    x = [*string]\n",
    "    for n in x:\n",
    "        if n != \" \":\n",
    "            reso_ls.append(x.index(n))\n",
    "    return reso_ls\n",
    "\n",
    "\n",
    "# calculate the indexes which have a stack number\n",
    "stack_str_nos = indexresolver(stack_numbers_ls)\n",
    "\n",
    "print(stack_str_nos)\n",
    "# [1, 5, 9, 13, 17, 21, 25, 29, 33]"
   ]
  },
  {
   "cell_type": "code",
   "execution_count": 25,
   "metadata": {},
   "outputs": [
    {
     "name": "stdout",
     "output_type": "stream",
     "text": [
      "{1: 1, 5: 2, 9: 3, 13: 4, 17: 5, 21: 6, 25: 7, 29: 8, 33: 9}\n"
     ]
    }
   ],
   "source": [
    "# create a dict to map the index number to the stack number\n",
    "indexzip = dict(zip(stack_str_nos, range(1, 10)))\n",
    "# {1: 1, 5: 2, 9: 3, 13: 4, 17: 5, 21: 6, 25: 7, 29: 8}\n",
    "\n",
    "print(indexzip)\n",
    "\n"
   ]
  },
  {
   "cell_type": "code",
   "execution_count": 30,
   "metadata": {},
   "outputs": [
    {
     "name": "stdout",
     "output_type": "stream",
     "text": [
      "['[', 'R', ']', ' ', '[', 'N', ']', ' ', '[', 'S', ']', ' ', '[', 'T', ']', ' ', '[', 'P', ']', ' ', '[', 'P', ']', ' ', '[', 'W', ']', ' ', '[', 'Q', ']', ' ', '[', 'G', ']']\n",
      "{1: 'R', 2: 'N', 3: 'S', 4: 'T', 5: 'P', 7: 'W', 8: 'Q', 9: 'G'}\n"
     ]
    }
   ],
   "source": [
    "# function returns the stack number from the index number\n",
    "def index_to_stack(index_no):\n",
    "    x = indexzip[index_no]\n",
    "    return x\n",
    "\n",
    "\n",
    "# characters we are not interested in\n",
    "neg_ls = [\"[\", \"]\", \" \"]\n",
    "\n",
    "# works out which stack a crate_string has crates in and creates a dictionary with\n",
    "# the stack number and the crate letter in that stack\n",
    "# for example: {4: 'Q', 6: 'G', 8: 'M'}\n",
    "def stack_locator(crate_string):\n",
    "    crate_list = [*crate_string]\n",
    "    i = {\n",
    "        index_to_stack(crate_list.index(letter)): letter\n",
    "        for letter in crate_list\n",
    "        if not letter in neg_ls\n",
    "    }\n",
    "    return i\n",
    "\n",
    "test_string = \"[R] [N] [S] [T] [P] [P] [W] [Q] [G]\"\n",
    "\n",
    "test_one = stack_locator(test_string)\n",
    "\n",
    "print(test_one)"
   ]
  },
  {
   "cell_type": "code",
   "execution_count": 27,
   "metadata": {},
   "outputs": [
    {
     "name": "stdout",
     "output_type": "stream",
     "text": [
      "[{4: 'Q', 6: 'G', 8: 'M'}, {4: 'B', 5: 'S', 6: 'V', 8: 'P', 9: 'R'}, {2: 'T', 4: 'C', 5: 'F', 6: 'L', 8: 'V', 9: 'N'}, {1: 'Q', 2: 'P', 4: 'H', 5: 'N', 6: 'S', 8: 'W', 9: 'C'}, {1: 'F', 2: 'G', 3: 'B', 4: 'J', 6: 'N', 8: 'Z', 9: 'L'}, {1: 'L', 2: 'Q', 4: 'Z', 5: 'M', 7: 'F', 8: 'G', 9: 'D'}, {1: 'S', 2: 'Z', 3: 'M', 4: 'G', 5: 'H', 6: 'C'}, {1: 'R', 2: 'N', 3: 'S', 4: 'T', 5: 'P', 7: 'W', 8: 'Q', 9: 'G'}]\n",
      "{1: [], 2: [], 3: [], 4: [], 5: [], 6: [], 7: [], 8: [], 9: []}\n"
     ]
    }
   ],
   "source": [
    "# a list with each crate line converted to dict as above\n",
    "z = [stack_locator(x) for x in stack_crates]\n",
    "\n",
    "print(z)\n",
    "# reverse the order so that the last line will be the 'bottom' of the pile\n",
    "# by being the first crate in the list\n",
    "z.reverse()\n",
    "\n",
    "# print(z)\n",
    "\n",
    "# make a blank map:\n",
    "# {1: [], 2: [], 3: [], 4: [], 5: [], 6: [], 7: [], 8: [], 9: []}\n",
    "master_plan = {i: [] for i in range(1, 10)}\n",
    "print(master_plan)\n",
    "\n"
   ]
  },
  {
   "cell_type": "code",
   "execution_count": null,
   "metadata": {},
   "outputs": [],
   "source": [
    "\n",
    "# update the master plan map with the list of crate positions\n",
    "def value_updater(plan, list_of_dicts):\n",
    "    for i in list_of_dicts:\n",
    "        for key, value in i.items():\n",
    "            plan[int(key)].append(value)\n",
    "            \n",
    "value_updater(master_plan, z)\n",
    "\n",
    "# We now have a usable format\n",
    "# 1  : ['R', 'S', 'L', 'F', 'Q']\n",
    "# 2  : ['N', 'Z', 'Q', 'G', 'P', 'T']\n",
    "# 3  : ['S', 'M', 'B']\n",
    "# 4  : ['T', 'G', 'Z', 'J', 'H', 'C', 'B', 'Q']\n",
    "# 5  : ['P', 'H', 'M', 'N', 'F', 'S']\n",
    "# 6  : ['C', 'N', 'S', 'L', 'V', 'G']\n",
    "# 7  : ['W', 'F']\n",
    "# 8  : ['Q', 'G', 'Z', 'W', 'V', 'P', 'M']\n",
    "# 9  : ['G', 'D', 'L', 'C', 'N', 'R']\n",
    "\n",
    "master_procedure = instructions.split(\"\\n\")\n",
    "\n",
    "# print(master_plan)\n",
    "\n",
    "# print(master_procedure)"
   ]
  },
  {
   "cell_type": "code",
   "execution_count": null,
   "metadata": {},
   "outputs": [],
   "source": [
    "def crane(master_plan, from_key, to_key, num_items):\n",
    "    from_list = master_plan[from_key]\n",
    "    to_list = master_plan[to_key]\n",
    "\n",
    "    for i in range(num_items):\n",
    "        item = from_list.pop()\n",
    "        to_list.append(item)\n",
    "\n",
    "    new_from_pile = {from_key: from_list}\n",
    "    new_to_pile = {to_key: to_list}\n",
    "\n",
    "    print(new_from_pile)\n",
    "    print(new_to_pile)\n",
    "\n",
    "    master_plan.update(new_from_pile)\n",
    "    master_plan.update(new_to_pile)\n",
    "    return master_plan\n",
    "\n",
    "\n",
    "def instruction_parser(instruction):\n",
    "    parts = instruction.split(\" \")\n",
    "    num_items = int(parts[1])\n",
    "    from_key = int(parts[3])\n",
    "    to_key = int(parts[5])\n",
    "\n",
    "    print(num_items)\n",
    "    print(from_key)\n",
    "    print(to_key)\n",
    "\n",
    "    return num_items, from_key, to_key\n",
    "\n",
    "\n",
    "def crane_operator(master_plan, master_procedure):\n",
    "    for instruction in master_procedure:\n",
    "        num_items, from_key, to_key = instruction_parser(instruction)\n",
    "        crane(master_plan, from_key, to_key, num_items)\n",
    "    return master_plan\n",
    "\n",
    "\n",
    "# final_positions = crane_operator(master_plan, master_procedure)\n",
    "\n",
    "test_plan = {1: [\"Z\", \"N\"], 2: [\"M\", \"C\", \"D\"], 3: [\"P\"]}\n",
    "\n",
    "test_procedure = [\n",
    "    \"move 1 from 2 to 1\",\n",
    "    \"move 3 from 1 to 3\",\n",
    "    \"move 2 from 2 to 1\",\n",
    "    \"move 1 from 1 to 2\",\n",
    "]"
   ]
  }
 ],
 "metadata": {
  "kernelspec": {
   "display_name": "Python 3",
   "language": "python",
   "name": "python3"
  },
  "language_info": {
   "codemirror_mode": {
    "name": "ipython",
    "version": 3
   },
   "file_extension": ".py",
   "mimetype": "text/x-python",
   "name": "python",
   "nbconvert_exporter": "python",
   "pygments_lexer": "ipython3",
   "version": "3.10.6 (main, Nov 14 2022, 16:10:14) [GCC 11.3.0]"
  },
  "orig_nbformat": 4,
  "vscode": {
   "interpreter": {
    "hash": "916dbcbb3f70747c44a77c7bcd40155683ae19c65e1c03b4aa3499c5328201f1"
   }
  }
 },
 "nbformat": 4,
 "nbformat_minor": 2
}
