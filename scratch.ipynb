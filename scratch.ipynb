{
 "cells": [
  {
   "cell_type": "code",
   "execution_count": null,
   "metadata": {},
   "outputs": [],
   "source": [
    "x = range(0, 300, 3)\n",
    "for n in x:\n",
    "  print(n)"
   ]
  },
  {
   "cell_type": "code",
   "execution_count": 30,
   "metadata": {},
   "outputs": [
    {
     "name": "stdout",
     "output_type": "stream",
     "text": [
      "['Z']\n",
      "['r', 'r']\n"
     ]
    }
   ],
   "source": [
    "test_elves = [\n",
    "    'wMqvLMZHhHMvwLHjbvcjnnSBnvTQFn', \n",
    "    'ttgJtRGJQctTZtZT', \n",
    "    'CrZsJsPPZsGzwwsLwLmpwMDw'\n",
    "    ]\n",
    "\n",
    "test_elves2 = ['vJrwpWtwJgWrhcsFMMfFFhFp',\n",
    "'jqHRNqRjqzjGDLGLrsFMfFZSrLrFZsSL',\n",
    "'PmmdzqPrVvPwwTWBwg'\n",
    "]\n",
    "\n",
    "def group_cruncher(rs_full):\n",
    "    elf_group_letters = []\n",
    "    for n in range(0, len(rs_full), 3):\n",
    "        rs = rs_full[n:n+3]\n",
    "        for letter in rs[0]:\n",
    "            if letter in rs[1] and letter in rs[2]:\n",
    "                elf_group_letters.append(letter)\n",
    "\n",
    "    return elf_group_letters\n",
    "\n",
    "x = group_cruncher(test_elves)\n",
    "y = group_cruncher(test_elves2)\n",
    "print(x)\n",
    "print(y)"
   ]
  },
  {
   "cell_type": "code",
   "execution_count": 31,
   "metadata": {},
   "outputs": [
    {
     "name": "stdout",
     "output_type": "stream",
     "text": [
      "['75-76,18-75', '2-54,1-50', '82-83,78-82', '13-37,37-75', '79-80,2-80']\n"
     ]
    }
   ],
   "source": [
    "with open('Day4-puzzleinput.txt', 'r') as outfile:\n",
    "    camp_clean_string = outfile.read()\n",
    "    campclean_list = camp_clean_string.split('\\n')\n",
    "\n",
    "print(campclean_list[:5])"
   ]
  },
  {
   "cell_type": "code",
   "execution_count": 34,
   "metadata": {},
   "outputs": [],
   "source": [
    "def elf_pair_cruncher(x):\n",
    "    a, b = x.split(',')\n",
    "    m, n = a.split('-')\n",
    "    r, s = b.split('-')\n",
    "\n",
    "    set1 = set(range(int(m), int(n) +1))\n",
    "    set2 = set(range(int(r), int(s)+1))\n",
    "    return (set1, set2)"
   ]
  },
  {
   "cell_type": "code",
   "execution_count": 37,
   "metadata": {},
   "outputs": [
    {
     "name": "stdout",
     "output_type": "stream",
     "text": [
      "496\n"
     ]
    }
   ],
   "source": [
    "set_unpack = [elf_pair_cruncher(x) for x in campclean_list]\n",
    "\n",
    "\n",
    "truthy = [set1.issubset(set2) or set2.issubset(set1) for set1, set2 in set_unpack]\n",
    "\n",
    "# Use a list comprehension to create a new list with only the True values\n",
    "true_values = [x for x in truthy if x]\n",
    "\n",
    "# Count the number of True values\n",
    "true_count = len(true_values)\n",
    "\n",
    "# Print the result\n",
    "print(true_count) \n",
    "\n",
    " \n"
   ]
  },
  {
   "cell_type": "code",
   "execution_count": 47,
   "metadata": {},
   "outputs": [
    {
     "name": "stdout",
     "output_type": "stream",
     "text": [
      "            [Q]     [G]     [M]    \n",
      "            [B] [S] [V]     [P] [R]\n",
      "    [T]     [C] [F] [L]     [V] [N]\n",
      "[Q] [P]     [H] [N] [S]     [W] [C]\n",
      "[F] [G] [B] [J] [B] [N]     [Z] [L]\n",
      "[L] [Q] [Q] [Z] [M] [Q] [F] [G] [D]\n",
      "[S] [Z] [M] [G] [H] [C] [C] [H] [Z]\n",
      "[R] [N] [S] [T] [P] [P] [W] [Q] [G]\n",
      " 1   2   3   4   5   6   7   8   9 \n",
      "[' ', ' ', ' ', ' ', ' ', ' ', ' ', ' ', ' ', ' ', ' ', ' ', '[', 'Q', ']', ' ', ' ', ' ', ' ', ' ', '[', 'G', ']', ' ', ' ', ' ', ' ', ' ', '[', 'M', ']', ' ', ' ', ' ', ' ']\n",
      "[' ', '1', ' ', ' ', ' ', '2', ' ', ' ', ' ', '3', ' ', ' ', ' ', '4', ' ', ' ', ' ', '5', ' ', ' ', ' ', '6', ' ', ' ', ' ', '7', ' ', ' ', ' ', '8', ' ', ' ', ' ', '9', ' ']\n"
     ]
    }
   ],
   "source": [
    "with open('Day5-puzzleinput.txt', 'r') as outfile:\n",
    "    x = outfile.read()\n",
    "    stacks, instructions = x.split('\\n\\n')\n",
    "\n",
    "print(stacks)\n",
    "\n",
    "x = stacks.splitlines()[0]\n",
    "n = stacks.splitlines()[-1]\n",
    "y = [*x]\n",
    "m = [*n]\n",
    "print(y)\n",
    "\n",
    "print(m)"
   ]
  },
  {
   "cell_type": "code",
   "execution_count": 51,
   "metadata": {},
   "outputs": [
    {
     "name": "stdout",
     "output_type": "stream",
     "text": [
      "1\n",
      "5\n",
      "9\n",
      "13\n",
      "17\n",
      "21\n",
      "25\n",
      "29\n",
      "33\n"
     ]
    }
   ],
   "source": [
    "for n in m:\n",
    "    if n != ' ':\n",
    "        print(m.index(n))"
   ]
  },
  {
   "cell_type": "code",
   "execution_count": 52,
   "metadata": {},
   "outputs": [
    {
     "name": "stdout",
     "output_type": "stream",
     "text": [
      "[1, 5, 9, 13, 17, 21, 25, 29]\n"
     ]
    }
   ],
   "source": [
    "ls = [1, 5, 9, 13, 17, 21, 25, 29, 33]\n",
    "\n",
    "print(ls[:-1])"
   ]
  },
  {
   "cell_type": "code",
   "execution_count": 58,
   "metadata": {},
   "outputs": [
    {
     "name": "stdout",
     "output_type": "stream",
     "text": [
      "G\n",
      "None\n"
     ]
    }
   ],
   "source": [
    "test_string = '            [Q]     [G]     [M]    '\n",
    "neg_ls = ['[', ']', ' ']\n",
    "indexzip = {1: 1, 5: 2, 9: 3, 13: 4, 17: 5, 21: 6, 25: 7, 29: 8}\n",
    "\n",
    "def index_to_stack(index_no):\n",
    "    x = indexzip[int(index_no)]\n",
    "    return x\n",
    "\n",
    "def stack_resolver(crate_string):\n",
    "    crate_list = [*crate_string]\n",
    "    \n",
    "    y = [letter for letter in crate_list if letter in neg_ls]\n",
    "        \n",
    "x = stack_resolver(test_string)\n",
    "\n",
    "print(x)\n"
   ]
  },
  {
   "cell_type": "code",
   "execution_count": 54,
   "metadata": {},
   "outputs": [
    {
     "data": {
      "text/plain": [
       "6"
      ]
     },
     "execution_count": 54,
     "metadata": {},
     "output_type": "execute_result"
    }
   ],
   "source": [
    "p = index_to_stack(21)\n",
    "\n",
    "p"
   ]
  }
 ],
 "metadata": {
  "kernelspec": {
   "display_name": "Python 3.11.0 64-bit",
   "language": "python",
   "name": "python3"
  },
  "language_info": {
   "codemirror_mode": {
    "name": "ipython",
    "version": 3
   },
   "file_extension": ".py",
   "mimetype": "text/x-python",
   "name": "python",
   "nbconvert_exporter": "python",
   "pygments_lexer": "ipython3",
   "version": "3.11.1"
  },
  "orig_nbformat": 4,
  "vscode": {
   "interpreter": {
    "hash": "ead1b95f633dc9c51826328e1846203f51a198c6fb5f2884a80417ba131d4e82"
   }
  }
 },
 "nbformat": 4,
 "nbformat_minor": 2
}
