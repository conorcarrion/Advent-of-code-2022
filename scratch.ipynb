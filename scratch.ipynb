{
 "cells": [
  {
   "cell_type": "code",
   "execution_count": null,
   "metadata": {},
   "outputs": [],
   "source": [
    "x = range(0, 300, 3)\n",
    "for n in x:\n",
    "  print(n)"
   ]
  },
  {
   "cell_type": "code",
   "execution_count": 30,
   "metadata": {},
   "outputs": [
    {
     "name": "stdout",
     "output_type": "stream",
     "text": [
      "['Z']\n",
      "['r', 'r']\n"
     ]
    }
   ],
   "source": [
    "test_elves = [\n",
    "    'wMqvLMZHhHMvwLHjbvcjnnSBnvTQFn', \n",
    "    'ttgJtRGJQctTZtZT', \n",
    "    'CrZsJsPPZsGzwwsLwLmpwMDw'\n",
    "    ]\n",
    "\n",
    "test_elves2 = ['vJrwpWtwJgWrhcsFMMfFFhFp',\n",
    "'jqHRNqRjqzjGDLGLrsFMfFZSrLrFZsSL',\n",
    "'PmmdzqPrVvPwwTWBwg'\n",
    "]\n",
    "\n",
    "def group_cruncher(rs_full):\n",
    "    elf_group_letters = []\n",
    "    for n in range(0, len(rs_full), 3):\n",
    "        rs = rs_full[n:n+3]\n",
    "        for letter in rs[0]:\n",
    "            if letter in rs[1] and letter in rs[2]:\n",
    "                elf_group_letters.append(letter)\n",
    "\n",
    "    return elf_group_letters\n",
    "\n",
    "x = group_cruncher(test_elves)\n",
    "y = group_cruncher(test_elves2)\n",
    "print(x)\n",
    "print(y)"
   ]
  },
  {
   "cell_type": "code",
   "execution_count": 31,
   "metadata": {},
   "outputs": [
    {
     "name": "stdout",
     "output_type": "stream",
     "text": [
      "['75-76,18-75', '2-54,1-50', '82-83,78-82', '13-37,37-75', '79-80,2-80']\n"
     ]
    }
   ],
   "source": [
    "with open('Day4-puzzleinput.txt', 'r') as outfile:\n",
    "    camp_clean_string = outfile.read()\n",
    "    campclean_list = camp_clean_string.split('\\n')\n",
    "\n",
    "print(campclean_list[:5])"
   ]
  },
  {
   "cell_type": "code",
   "execution_count": 34,
   "metadata": {},
   "outputs": [],
   "source": [
    "def elf_pair_cruncher(x):\n",
    "    a, b = x.split(',')\n",
    "    m, n = a.split('-')\n",
    "    r, s = b.split('-')\n",
    "\n",
    "    set1 = set(range(int(m), int(n) +1))\n",
    "    set2 = set(range(int(r), int(s)+1))\n",
    "    return (set1, set2)"
   ]
  },
  {
   "cell_type": "code",
   "execution_count": 37,
   "metadata": {},
   "outputs": [
    {
     "name": "stdout",
     "output_type": "stream",
     "text": [
      "496\n"
     ]
    }
   ],
   "source": [
    "set_unpack = [elf_pair_cruncher(x) for x in campclean_list]\n",
    "\n",
    "\n",
    "truthy = [set1.issubset(set2) or set2.issubset(set1) for set1, set2 in set_unpack]\n",
    "\n",
    "# Use a list comprehension to create a new list with only the True values\n",
    "true_values = [x for x in truthy if x]\n",
    "\n",
    "# Count the number of True values\n",
    "true_count = len(true_values)\n",
    "\n",
    "# Print the result\n",
    "print(true_count) \n",
    "\n",
    " \n"
   ]
  }
 ],
 "metadata": {
  "kernelspec": {
   "display_name": "Python 3.11.0 64-bit",
   "language": "python",
   "name": "python3"
  },
  "language_info": {
   "codemirror_mode": {
    "name": "ipython",
    "version": 3
   },
   "file_extension": ".py",
   "mimetype": "text/x-python",
   "name": "python",
   "nbconvert_exporter": "python",
   "pygments_lexer": "ipython3",
   "version": "3.11.1"
  },
  "orig_nbformat": 4,
  "vscode": {
   "interpreter": {
    "hash": "ead1b95f633dc9c51826328e1846203f51a198c6fb5f2884a80417ba131d4e82"
   }
  }
 },
 "nbformat": 4,
 "nbformat_minor": 2
}
